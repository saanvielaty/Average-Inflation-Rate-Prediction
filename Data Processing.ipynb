{
  "nbformat": 4,
  "nbformat_minor": 0,
  "metadata": {
    "colab": {
      "provenance": []
    },
    "kernelspec": {
      "name": "python3",
      "display_name": "Python 3"
    },
    "language_info": {
      "name": "python"
    }
  },
  "cells": [
    {
      "cell_type": "code",
      "source": [
        "import pandas as pd\n",
        "from sklearn.model_selection import train_test_split\n",
        "\n",
        "# Load datasets\n",
        "df_countries = pd.read_csv('global_inflation_countries.csv')\n",
        "df_organizations = pd.read_csv('global_inflation_organizations.csv')\n",
        "\n",
        "# Merge datasets on country_code\n",
        "merged_df = pd.merge(\n",
        "    df_countries,\n",
        "    df_organizations,\n",
        "    on='country_code',\n",
        "    how='left',\n",
        "    suffixes=('', '_org')\n",
        ")\n",
        "\n",
        "# Drop duplicate or unnecessary columns\n",
        "for col in merged_df.columns:\n",
        "    if col.endswith('_org'):\n",
        "        merged_df = merged_df.drop(col, axis=1)\n",
        "    elif col.endswith('_x') or col.endswith('_y'):\n",
        "        base_col = col[:-2]\n",
        "        if f\"{base_col}_x\" in merged_df and f\"{base_col}_y\" in merged_df:\n",
        "            merged_df[base_col] = merged_df[f\"{base_col}_x\"]\n",
        "            merged_df = merged_df.drop([f\"{base_col}_x\", f\"{base_col}_y\"], axis=1)\n",
        "\n",
        "# Convert year to datetime\n",
        "merged_df['year'] = pd.to_datetime(merged_df['year'], format='%Y', errors='coerce')\n",
        "\n",
        "# Add previous year inflation\n",
        "merged_df['previous_inflation'] = merged_df.groupby('country_code')['inflation_rate'].shift(1)\n",
        "\n",
        "# Compute 3-year rolling average\n",
        "merged_df = merged_df.sort_values(by=[\"country_code\", \"year\"])\n",
        "merged_df['avg_inflation_3yr'] = (\n",
        "    merged_df.groupby('country_code')['inflation_rate']\n",
        "    .transform(lambda x: x.rolling(window=3, min_periods=3).mean())\n",
        ")\n",
        "\n",
        "# Save merged data\n",
        "merged_df.to_csv('merged_inflation_data.csv', index=False)\n",
        "\n",
        "# Drop rows with missing 3-year average\n",
        "processed_df = merged_df.dropna(subset=['avg_inflation_3yr'])\n",
        "\n",
        "# Save processed data\n",
        "processed_df.to_csv('processed_inflation_data.csv', index=False)\n",
        "\n",
        "# Define target and features\n",
        "target = processed_df['avg_inflation_3yr']\n",
        "features = processed_df.drop(columns=['inflation_rate', 'avg_inflation_3yr', 'country_name', 'year'], errors='ignore')\n",
        "\n",
        "# Convert and clean\n",
        "features = features.infer_objects(copy=False)\n",
        "features = features.fillna(0)\n",
        "features = pd.get_dummies(features)\n",
        "\n",
        "# Combine features and target into one DataFrame\n",
        "full_data = features.copy()\n",
        "full_data['avg_inflation_3yr'] = target.values\n",
        "\n",
        "# Split into train/val/test\n",
        "train_data, test_data = train_test_split(full_data, test_size=0.3, random_state=1)\n",
        "train_data, val_data = train_test_split(train_data, test_size=0.2, random_state=1)\n",
        "\n",
        "# Save combined datasets\n",
        "train_data.to_csv('Train.csv', index=False)\n",
        "val_data.to_csv('Validation.csv', index=False)\n",
        "test_data.to_csv('Test.csv', index=False)\n"
      ],
      "metadata": {
        "id": "ELeUookDtoPy"
      },
      "execution_count": 4,
      "outputs": []
    }
  ]
}